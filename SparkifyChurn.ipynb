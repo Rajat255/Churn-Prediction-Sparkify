{
  "cells": [
    {
      "cell_type": "markdown",
      "metadata": {
        "id": "tIjkm69x9kyz"
      },
      "source": [
        "In this project we count the number and analyze users that churned from using Sparkify, meaning we extract more information on the users that stopped using Sparkify. And make some predictions"
      ]
    },
    {
      "cell_type": "markdown",
      "metadata": {
        "id": "hpeFfa2z63Rz"
      },
      "source": [
        "Connecting to google drive, To access the dataset"
      ]
    },
    {
      "cell_type": "code",
      "execution_count": null,
      "metadata": {
        "colab": {
          "base_uri": "https://localhost:8080/"
        },
        "id": "x4ZvfTYdZnyr",
        "outputId": "aa8470b0-c62b-4c50-d539-0834f06f2c34"
      },
      "outputs": [
        {
          "name": "stdout",
          "output_type": "stream",
          "text": [
            "Drive already mounted at /content/drive; to attempt to forcibly remount, call drive.mount(\"/content/drive\", force_remount=True).\n"
          ]
        }
      ],
      "source": [
        "from google.colab import drive\n",
        "drive.mount('/content/drive')"
      ]
    },
    {
      "cell_type": "markdown",
      "metadata": {
        "id": "RgaIQ3B67FRv"
      },
      "source": [
        "Installing PySpark and import essential pakages"
      ]
    },
    {
      "cell_type": "code",
      "execution_count": null,
      "metadata": {
        "colab": {
          "base_uri": "https://localhost:8080/"
        },
        "id": "OsXfiU7hMTwx",
        "outputId": "d5c2bf47-7a30-428d-8152-c95063b53c72"
      },
      "outputs": [
        {
          "name": "stdout",
          "output_type": "stream",
          "text": [
            "Looking in indexes: https://pypi.org/simple, https://us-python.pkg.dev/colab-wheels/public/simple/\n",
            "Collecting pyspark\n",
            "  Downloading pyspark-3.3.1.tar.gz (281.4 MB)\n",
            "\u001b[K     |████████████████████████████████| 281.4 MB 44 kB/s \n",
            "\u001b[?25hCollecting py4j==0.10.9.5\n",
            "  Downloading py4j-0.10.9.5-py2.py3-none-any.whl (199 kB)\n",
            "\u001b[K     |████████████████████████████████| 199 kB 61.1 MB/s \n",
            "\u001b[?25hBuilding wheels for collected packages: pyspark\n",
            "  Building wheel for pyspark (setup.py) ... \u001b[?25l\u001b[?25hdone\n",
            "  Created wheel for pyspark: filename=pyspark-3.3.1-py2.py3-none-any.whl size=281845513 sha256=7a028fa38a36259a5312994aa23f3e3be35ad30d8211747d839b7a5ea0b876f5\n",
            "  Stored in directory: /root/.cache/pip/wheels/42/59/f5/79a5bf931714dcd201b26025347785f087370a10a3329a899c\n",
            "Successfully built pyspark\n",
            "Installing collected packages: py4j, pyspark\n",
            "Successfully installed py4j-0.10.9.5 pyspark-3.3.1\n"
          ]
        }
      ],
      "source": [
        "!pip install pyspark\n",
        "import pyspark\n",
        "from pyspark import SparkConf\n",
        "from pyspark.sql import SparkSession\n",
        "from pyspark.sql.functions import udf\n",
        "from pyspark.sql.types import StringType\n",
        "from pyspark.sql.types import IntegerType\n",
        "from pyspark.sql.functions import isnan, count, when, col, desc, udf, col, sort_array, asc, avg\n",
        "from pyspark.sql.functions import sum as Fsum\n",
        "from pyspark.sql.window import Window\n",
        "from pyspark.sql import Row\n",
        "from pyspark.sql import functions as F\n",
        "from pyspark.sql.functions import *\n",
        "\n",
        "from pyspark.ml import Pipeline\n",
        "from pyspark.ml.classification import LogisticRegression, RandomForestClassifier, GBTClassifier, LinearSVC, NaiveBayes\n",
        "from pyspark.ml.evaluation import MulticlassClassificationEvaluator\n",
        "from pyspark.ml.feature import CountVectorizer, IDF, PCA, RegexTokenizer, VectorAssembler, Normalizer, StandardScaler\n",
        "from pyspark.ml.regression import LinearRegression\n",
        "from pyspark.ml.tuning import CrossValidator, ParamGridBuilder\n",
        "from pyspark.ml.classification import LogisticRegression\n",
        "from pyspark.ml.tuning import ParamGridBuilder, CrossValidator\n",
        "from pyspark.ml.evaluation import BinaryClassificationEvaluator\n",
        "from pyspark.mllib.evaluation import BinaryClassificationMetrics\n",
        "\n",
        "import datetime\n",
        "import time\n",
        "\n",
        "import pandas as pd\n",
        "import numpy as np\n",
        "import re\n",
        "import matplotlib.pyplot as plt\n",
        "import seaborn as sns\n",
        "sns.set()"
      ]
    },
    {
      "cell_type": "markdown",
      "metadata": {
        "id": "YGzlou-I7ZGH"
      },
      "source": [
        "Creating a Spark Session"
      ]
    },
    {
      "cell_type": "code",
      "execution_count": null,
      "metadata": {
        "id": "QQ52_uArM--O"
      },
      "outputs": [],
      "source": [
        "spark = SparkSession \\\n",
        "    .builder \\\n",
        "    .appName(\"Sparkify Capstone Project\") \\\n",
        "    .getOrCreate()"
      ]
    },
    {
      "cell_type": "markdown",
      "metadata": {
        "id": "TV5jlQtK7cRO"
      },
      "source": [
        "Reading Dataset"
      ]
    },
    {
      "cell_type": "code",
      "execution_count": null,
      "metadata": {
        "id": "vfXMmVKuNzZe"
      },
      "outputs": [],
      "source": [
        "df = spark.read.json(\"/content/drive/MyDrive/medium-sparkify-event-data.json\")"
      ]
    },
    {
      "cell_type": "markdown",
      "metadata": {
        "id": "eCWa9Eli7e6v"
      },
      "source": [
        "Print Schema of the dataset and the dataset, also checking if the dataset is properly loaded"
      ]
    },
    {
      "cell_type": "code",
      "execution_count": null,
      "metadata": {
        "colab": {
          "base_uri": "https://localhost:8080/"
        },
        "id": "lzE6_0hMPN_c",
        "outputId": "86d4aaf3-64f9-4300-87ca-19f31c5a2dd1"
      },
      "outputs": [
        {
          "name": "stdout",
          "output_type": "stream",
          "text": [
            "root\n",
            " |-- artist: string (nullable = true)\n",
            " |-- auth: string (nullable = true)\n",
            " |-- firstName: string (nullable = true)\n",
            " |-- gender: string (nullable = true)\n",
            " |-- itemInSession: long (nullable = true)\n",
            " |-- lastName: string (nullable = true)\n",
            " |-- length: double (nullable = true)\n",
            " |-- level: string (nullable = true)\n",
            " |-- location: string (nullable = true)\n",
            " |-- method: string (nullable = true)\n",
            " |-- page: string (nullable = true)\n",
            " |-- registration: long (nullable = true)\n",
            " |-- sessionId: long (nullable = true)\n",
            " |-- song: string (nullable = true)\n",
            " |-- status: long (nullable = true)\n",
            " |-- ts: long (nullable = true)\n",
            " |-- userAgent: string (nullable = true)\n",
            " |-- userId: string (nullable = true)\n",
            "\n"
          ]
        }
      ],
      "source": [
        "df.printSchema()"
      ]
    },
    {
      "cell_type": "code",
      "execution_count": null,
      "metadata": {
        "colab": {
          "base_uri": "https://localhost:8080/"
        },
        "id": "BJEz0tRaPUmw",
        "outputId": "a1149c4e-961d-455d-aff6-6164a9de6de5"
      },
      "outputs": [
        {
          "name": "stdout",
          "output_type": "stream",
          "text": [
            "+--------------------+----------+---------+------+-------------+---------+---------+-----+--------------------+------+---------------+-------------+---------+--------------------+------+-------------+--------------------+------+\n",
            "|              artist|      auth|firstName|gender|itemInSession| lastName|   length|level|            location|method|           page| registration|sessionId|                song|status|           ts|           userAgent|userId|\n",
            "+--------------------+----------+---------+------+-------------+---------+---------+-----+--------------------+------+---------------+-------------+---------+--------------------+------+-------------+--------------------+------+\n",
            "|       Martin Orford| Logged In|   Joseph|     M|           20|  Morales|597.55057| free|  Corpus Christi, TX|   PUT|       NextSong|1532063507000|      292|       Grand Designs|   200|1538352011000|\"Mozilla/5.0 (Mac...|   293|\n",
            "|   John Brown's Body| Logged In|   Sawyer|     M|           74|   Larson|380.21179| free|Houston-The Woodl...|   PUT|       NextSong|1538069638000|       97|               Bulls|   200|1538352025000|\"Mozilla/5.0 (Mac...|    98|\n",
            "|             Afroman| Logged In| Maverick|     M|          184| Santiago|202.37016| paid|Orlando-Kissimmee...|   PUT|       NextSong|1535953455000|      178|  Because I Got High|   200|1538352118000|\"Mozilla/5.0 (Mac...|   179|\n",
            "|                null| Logged In| Maverick|     M|          185| Santiago|     null| paid|Orlando-Kissimmee...|   PUT|         Logout|1535953455000|      178|                null|   307|1538352119000|\"Mozilla/5.0 (Mac...|   179|\n",
            "|          Lily Allen| Logged In|   Gianna|     F|           22|   Campos|194.53342| paid|          Mobile, AL|   PUT|       NextSong|1535931018000|      245|  Smile (Radio Edit)|   200|1538352124000|Mozilla/5.0 (Wind...|   246|\n",
            "|          Carter USM| Logged In|    Sofia|     F|          266|   Gordon|138.29179| paid|       Rochester, MN|   PUT|       NextSong|1533175710000|      162|       Airplane Food|   200|1538352125000|\"Mozilla/5.0 (Mac...|   163|\n",
            "|                null|Logged Out|     null|  null|          186|     null|     null| paid|                null|   GET|           Home|         null|      178|                null|   200|1538352148000|                null|      |\n",
            "|                null|Logged Out|     null|  null|          187|     null|     null| paid|                null|   GET|           Home|         null|      178|                null|   200|1538352151000|                null|      |\n",
            "|                null|Logged Out|     null|  null|          188|     null|     null| paid|                null|   GET|           Home|         null|      178|                null|   200|1538352168000|                null|      |\n",
            "|                null|Logged Out|     null|  null|          189|     null|     null| paid|                null|   PUT|          Login|         null|      178|                null|   307|1538352169000|                null|      |\n",
            "|                null| Logged In| Maverick|     M|          190| Santiago|     null| paid|Orlando-Kissimmee...|   GET|           Home|1535953455000|      178|                null|   200|1538352176000|\"Mozilla/5.0 (Mac...|   179|\n",
            "|           Aerosmith| Logged In|    Lacey|     F|          107|Castaneda|220.39465| free|        El Campo, TX|   PUT|       NextSong|1537536032000|      442|       Walk This Way|   200|1538352215000|\"Mozilla/5.0 (Mac...|   175|\n",
            "|                null| Logged In|    Colin|     M|            0|   Larson|     null| free|Dallas-Fort Worth...|   GET|           Home|1537982255000|      497|                null|   200|1538352241000|Mozilla/5.0 (Wind...|   100|\n",
            "|       Amy Winehouse| Logged In|    Colin|     M|            1|   Larson|201.50812| free|Dallas-Fort Worth...|   PUT|       NextSong|1537982255000|      497|    Teach Me Tonight|   200|1538352259000|Mozilla/5.0 (Wind...|   100|\n",
            "|Drake / Kanye Wes...| Logged In|    Sofia|     F|          267|   Gordon|357.66812| paid|       Rochester, MN|   PUT|       NextSong|1533175710000|      162|             Forever|   200|1538352263000|\"Mozilla/5.0 (Mac...|   163|\n",
            "|           Bob Dylan| Logged In|   Gianna|     F|           23|   Campos|256.96608| paid|          Mobile, AL|   PUT|       NextSong|1535931018000|      245|Simple Twist Of Fate|   200|1538352318000|Mozilla/5.0 (Wind...|   246|\n",
            "|        The Bar-Kays| Logged In| Maverick|     M|          191| Santiago|164.23138| paid|Orlando-Kissimmee...|   PUT|       NextSong|1535953455000|      178|         Montego Bay|   200|1538352320000|\"Mozilla/5.0 (Mac...|   179|\n",
            "|          Black Kids| Logged In|   Payton|     F|           83| Campbell|251.48036| free|Los Angeles-Long ...|   PUT|       NextSong|1529027541000|       38|Look At Me (When ...|   200|1538352323000|\"Mozilla/5.0 (Win...|    39|\n",
            "|                null| Logged In|    Sofia|     F|          268|   Gordon|     null| paid|       Rochester, MN|   GET|      Downgrade|1533175710000|      162|                null|   200|1538352336000|\"Mozilla/5.0 (Mac...|   163|\n",
            "|                null| Logged In| Maverick|     M|          192| Santiago|     null| paid|Orlando-Kissimmee...|   PUT|Add to Playlist|1535953455000|      178|                null|   200|1538352376000|\"Mozilla/5.0 (Mac...|   179|\n",
            "+--------------------+----------+---------+------+-------------+---------+---------+-----+--------------------+------+---------------+-------------+---------+--------------------+------+-------------+--------------------+------+\n",
            "only showing top 20 rows\n",
            "\n"
          ]
        }
      ],
      "source": [
        "df.show()"
      ]
    },
    {
      "cell_type": "code",
      "execution_count": null,
      "metadata": {
        "colab": {
          "base_uri": "https://localhost:8080/"
        },
        "id": "GQ8haOWQPWuN",
        "outputId": "1b382a0e-9527-410b-acf0-fe686abbae0b"
      },
      "outputs": [
        {
          "data": {
            "text/plain": [
              "543705"
            ]
          },
          "execution_count": 9,
          "metadata": {},
          "output_type": "execute_result"
        }
      ],
      "source": [
        "df.count()"
      ]
    },
    {
      "cell_type": "markdown",
      "metadata": {
        "id": "PJqCpUb47wOp"
      },
      "source": [
        "Conditioning of the dataset by Dropping Duplicates"
      ]
    },
    {
      "cell_type": "code",
      "execution_count": null,
      "metadata": {
        "colab": {
          "base_uri": "https://localhost:8080/"
        },
        "id": "9nFV_yLyQXq3",
        "outputId": "c8c00f46-cf4e-4531-f009-863af50330ae"
      },
      "outputs": [
        {
          "name": "stdout",
          "output_type": "stream",
          "text": [
            "+------+\n",
            "|gender|\n",
            "+------+\n",
            "|  null|\n",
            "|     F|\n",
            "|     M|\n",
            "+------+\n",
            "\n"
          ]
        }
      ],
      "source": [
        "df.select(\"gender\").dropDuplicates().sort(\"gender\").show()"
      ]
    },
    {
      "cell_type": "code",
      "execution_count": null,
      "metadata": {
        "colab": {
          "base_uri": "https://localhost:8080/"
        },
        "id": "iDuNcTHLQ1W-",
        "outputId": "cc2f93de-94a8-4982-a35e-389ec8391660"
      },
      "outputs": [
        {
          "name": "stdout",
          "output_type": "stream",
          "text": [
            "+----------+\n",
            "|      auth|\n",
            "+----------+\n",
            "| Cancelled|\n",
            "|     Guest|\n",
            "| Logged In|\n",
            "|Logged Out|\n",
            "+----------+\n",
            "\n"
          ]
        }
      ],
      "source": [
        "df.select(\"auth\").dropDuplicates().sort(\"auth\").show()"
      ]
    },
    {
      "cell_type": "code",
      "execution_count": null,
      "metadata": {
        "colab": {
          "base_uri": "https://localhost:8080/"
        },
        "id": "-MAojkYRQ4oG",
        "outputId": "e0cdf032-3111-4c30-ab74-5adb0e3a4b91"
      },
      "outputs": [
        {
          "name": "stdout",
          "output_type": "stream",
          "text": [
            "+--------------------+\n",
            "|           userAgent|\n",
            "+--------------------+\n",
            "|                null|\n",
            "|\"Mozilla/5.0 (Mac...|\n",
            "|\"Mozilla/5.0 (Mac...|\n",
            "|\"Mozilla/5.0 (Mac...|\n",
            "|\"Mozilla/5.0 (Mac...|\n",
            "|\"Mozilla/5.0 (Mac...|\n",
            "|\"Mozilla/5.0 (Mac...|\n",
            "|\"Mozilla/5.0 (Mac...|\n",
            "|\"Mozilla/5.0 (Mac...|\n",
            "|\"Mozilla/5.0 (Mac...|\n",
            "|\"Mozilla/5.0 (Mac...|\n",
            "|\"Mozilla/5.0 (Mac...|\n",
            "|\"Mozilla/5.0 (Mac...|\n",
            "|\"Mozilla/5.0 (Mac...|\n",
            "|\"Mozilla/5.0 (Mac...|\n",
            "|\"Mozilla/5.0 (Mac...|\n",
            "|\"Mozilla/5.0 (Mac...|\n",
            "|\"Mozilla/5.0 (Mac...|\n",
            "|\"Mozilla/5.0 (Mac...|\n",
            "|\"Mozilla/5.0 (Mac...|\n",
            "+--------------------+\n",
            "only showing top 20 rows\n",
            "\n"
          ]
        }
      ],
      "source": [
        "df.select(\"userAgent\").dropDuplicates().sort(\"userAgent\").show()"
      ]
    },
    {
      "cell_type": "code",
      "execution_count": null,
      "metadata": {
        "colab": {
          "base_uri": "https://localhost:8080/"
        },
        "id": "AfLXVSt0Q7Ye",
        "outputId": "77baef63-a2b5-48e6-c530-e43209051a6d"
      },
      "outputs": [
        {
          "name": "stdout",
          "output_type": "stream",
          "text": [
            "+-------------+\n",
            "| registration|\n",
            "+-------------+\n",
            "|         null|\n",
            "|1509854193000|\n",
            "|1519397713000|\n",
            "|1521380675000|\n",
            "|1522076012000|\n",
            "|1522793334000|\n",
            "|1523464964000|\n",
            "|1523721066000|\n",
            "|1523777521000|\n",
            "|1526739206000|\n",
            "|1526838391000|\n",
            "|1527013865000|\n",
            "|1527341164000|\n",
            "|1527476190000|\n",
            "|1528403713000|\n",
            "|1528560242000|\n",
            "|1528772084000|\n",
            "|1528780738000|\n",
            "|1528833373000|\n",
            "|1528996419000|\n",
            "+-------------+\n",
            "only showing top 20 rows\n",
            "\n"
          ]
        }
      ],
      "source": [
        "df.select(\"registration\").dropDuplicates().sort(\"registration\").show()"
      ]
    },
    {
      "cell_type": "code",
      "execution_count": null,
      "metadata": {
        "colab": {
          "base_uri": "https://localhost:8080/"
        },
        "id": "EDV8KuKjQ_a-",
        "outputId": "3269abae-9e48-4735-bac6-8fc2d03edb7c"
      },
      "outputs": [
        {
          "name": "stdout",
          "output_type": "stream",
          "text": [
            "+------+\n",
            "|userId|\n",
            "+------+\n",
            "|      |\n",
            "|    10|\n",
            "|   100|\n",
            "|100001|\n",
            "|100002|\n",
            "|100003|\n",
            "|100004|\n",
            "|100005|\n",
            "|100006|\n",
            "|100007|\n",
            "|100008|\n",
            "|100009|\n",
            "|100010|\n",
            "|100011|\n",
            "|100012|\n",
            "|100013|\n",
            "|100014|\n",
            "|100015|\n",
            "|100016|\n",
            "|100017|\n",
            "+------+\n",
            "only showing top 20 rows\n",
            "\n"
          ] 
        }
      ],
      "source": [
        "df.select(\"userId\").dropDuplicates().sort(\"userId\").show()"
      ]
    },
    {
      "cell_type": "code",
      "execution_count": null,
      "metadata": {
        "colab": {
          "base_uri": "https://localhost:8080/"
        },
        "id": "7FdiLPhnRCoF",
        "outputId": "8e95cbd4-f2e7-4f9f-e8ea-fd6c5020dc63"
      },
      "outputs": [
        {
          "name": "stdout",
          "output_type": "stream",
          "text": [
            "+--------------------+\n",
            "|                page|\n",
            "+--------------------+\n",
            "|               About|\n",
            "|          Add Friend|\n",
            "|     Add to Playlist|\n",
            "|              Cancel|\n",
            "|Cancellation Conf...|\n",
            "|           Downgrade|\n",
            "|               Error|\n",
            "|                Help|\n",
            "|                Home|\n",
            "|               Login|\n",
            "|              Logout|\n",
            "|            NextSong|\n",
            "|            Register|\n",
            "|         Roll Advert|\n",
            "|       Save Settings|\n",
            "|            Settings|\n",
            "|    Submit Downgrade|\n",
            "| Submit Registration|\n",
            "|      Submit Upgrade|\n",
            "|         Thumbs Down|\n",
            "+--------------------+\n",
            "only showing top 20 rows\n",
            "\n"
          ]
        }
      ],
      "source": [
        "df.select(\"page\").dropDuplicates().sort(\"page\").show()"
      ]
    },
    {
      "cell_type": "markdown",
      "metadata": {
        "id": "zeX69wy08C0m"
      },
      "source": [
        "Before duplicate values were dropped, the total rows were : 543705;\n",
        "Total rows after dropping: 528005"
      ]
    },
    {
      "cell_type": "code",
      "execution_count": null,
      "metadata": {
        "colab": {
          "base_uri": "https://localhost:8080/"
        },
        "id": "0sc1E9GCRExu",
        "outputId": "3ad936f7-4e42-4f87-d9e1-0147c1f89edc"
      },
      "outputs": [
        {
          "name": "stdout",
          "output_type": "stream",
          "text": [
            "rows dropped = 15700\n"
          ]
        }
      ],
      "source": [
        "df_before = df.count()\n",
        "df_before\n",
        "df = df.filter(df[\"userId\"] != \"\")\n",
        "df.count()\n",
        "print(\"rows dropped = \" + str(df_before - df.count()))"
      ]
    },
    {
      "cell_type": "code",
      "execution_count": null,
      "metadata": {
        "colab": {
          "base_uri": "https://localhost:8080/"
        },
        "id": "a7AxJbaZRQtg",
        "outputId": "4ce7dba8-508a-4af4-e437-171067ed4910"
      },
      "outputs": [
        {
          "name": "stdout",
          "output_type": "stream",
          "text": [
            "+--------------------+\n",
            "|                page|\n",
            "+--------------------+\n",
            "|               About|\n",
            "|          Add Friend|\n",
            "|     Add to Playlist|\n",
            "|              Cancel|\n",
            "|Cancellation Conf...|\n",
            "|           Downgrade|\n",
            "|               Error|\n",
            "|                Help|\n",
            "|                Home|\n",
            "|              Logout|\n",
            "|            NextSong|\n",
            "|         Roll Advert|\n",
            "|       Save Settings|\n",
            "|            Settings|\n",
            "|    Submit Downgrade|\n",
            "|      Submit Upgrade|\n",
            "|         Thumbs Down|\n",
            "|           Thumbs Up|\n",
            "|             Upgrade|\n",
            "+--------------------+\n",
            "\n"
          ]
        }
      ],
      "source": [
        "df.select(\"page\").dropDuplicates().sort(\"page\").show()"
      ]
    },
    {
      "cell_type": "code",
      "execution_count": null,
      "metadata": {
        "colab": {
          "base_uri": "https://localhost:8080/"
        },
        "id": "nhOSmUk6RefS",
        "outputId": "a349b3fe-e81b-4bac-e051-df3ff2e2cb83"
      },
      "outputs": [
        {
          "name": "stdout",
          "output_type": "stream",
          "text": [
            "count of users who churned : 99\n"
          ]
        }
      ],
      "source": [
        "print(\"count of users who churned : \" + str(df.select([\"userId\", \"page\"]).where(df[\"page\"] == \"Cancellation Confirmation\").count()))"
      ]
    },
    {
      "cell_type": "code",
      "execution_count": null,
      "metadata": {
        "colab": {
          "base_uri": "https://localhost:8080/"
        },
        "id": "4pGEEdEjRkP2",
        "outputId": "ba3747f3-de7f-481b-9f25-7e4df2f82bbe"
      },
      "outputs": [
        {
          "name": "stdout",
          "output_type": "stream",
          "text": [
            "+------+--------------------+\n",
            "|userId|                page|\n",
            "+------+--------------------+\n",
            "|   208|Cancellation Conf...|\n",
            "|   231|Cancellation Conf...|\n",
            "|   236|Cancellation Conf...|\n",
            "|   156|Cancellation Conf...|\n",
            "|   271|Cancellation Conf...|\n",
            "|   200|Cancellation Conf...|\n",
            "|   130|Cancellation Conf...|\n",
            "|   123|Cancellation Conf...|\n",
            "|    54|Cancellation Conf...|\n",
            "|    39|Cancellation Conf...|\n",
            "|   154|Cancellation Conf...|\n",
            "|   132|Cancellation Conf...|\n",
            "|    10|Cancellation Conf...|\n",
            "|   296|Cancellation Conf...|\n",
            "|   187|Cancellation Conf...|\n",
            "|    51|Cancellation Conf...|\n",
            "|    13|Cancellation Conf...|\n",
            "|    32|Cancellation Conf...|\n",
            "|    28|Cancellation Conf...|\n",
            "|   198|Cancellation Conf...|\n",
            "|   196|Cancellation Conf...|\n",
            "|   172|Cancellation Conf...|\n",
            "|   189|Cancellation Conf...|\n",
            "|   234|Cancellation Conf...|\n",
            "|    16|Cancellation Conf...|\n",
            "|   214|Cancellation Conf...|\n",
            "|   246|Cancellation Conf...|\n",
            "|    88|Cancellation Conf...|\n",
            "|    45|Cancellation Conf...|\n",
            "|    61|Cancellation Conf...|\n",
            "|   124|Cancellation Conf...|\n",
            "|   223|Cancellation Conf...|\n",
            "|    41|Cancellation Conf...|\n",
            "|   221|Cancellation Conf...|\n",
            "|   162|Cancellation Conf...|\n",
            "|   131|Cancellation Conf...|\n",
            "|   288|Cancellation Conf...|\n",
            "|   265|Cancellation Conf...|\n",
            "|   188|Cancellation Conf...|\n",
            "|   120|Cancellation Conf...|\n",
            "|   293|Cancellation Conf...|\n",
            "|   126|Cancellation Conf...|\n",
            "|   164|Cancellation Conf...|\n",
            "|    11|Cancellation Conf...|\n",
            "|   118|Cancellation Conf...|\n",
            "|    89|Cancellation Conf...|\n",
            "|   167|Cancellation Conf...|\n",
            "|    34|Cancellation Conf...|\n",
            "|    81|Cancellation Conf...|\n",
            "|    18|Cancellation Conf...|\n",
            "|    85|Cancellation Conf...|\n",
            "|   140|Cancellation Conf...|\n",
            "|100001|Cancellation Conf...|\n",
            "|100013|Cancellation Conf...|\n",
            "|100030|Cancellation Conf...|\n",
            "|100032|Cancellation Conf...|\n",
            "|100044|Cancellation Conf...|\n",
            "|100036|Cancellation Conf...|\n",
            "|100023|Cancellation Conf...|\n",
            "|100005|Cancellation Conf...|\n",
            "|100049|Cancellation Conf...|\n",
            "|100018|Cancellation Conf...|\n",
            "|100047|Cancellation Conf...|\n",
            "|100010|Cancellation Conf...|\n",
            "|100004|Cancellation Conf...|\n",
            "|100038|Cancellation Conf...|\n",
            "|100045|Cancellation Conf...|\n",
            "|100014|Cancellation Conf...|\n",
            "|100028|Cancellation Conf...|\n",
            "|100016|Cancellation Conf...|\n",
            "|100042|Cancellation Conf...|\n",
            "|100041|Cancellation Conf...|\n",
            "|100040|Cancellation Conf...|\n",
            "|100025|Cancellation Conf...|\n",
            "|100012|Cancellation Conf...|\n",
            "|100003|Cancellation Conf...|\n",
            "|100048|Cancellation Conf...|\n",
            "|100043|Cancellation Conf...|\n",
            "|100017|Cancellation Conf...|\n",
            "|100024|Cancellation Conf...|\n",
            "|100051|Cancellation Conf...|\n",
            "|100011|Cancellation Conf...|\n",
            "|200016|Cancellation Conf...|\n",
            "|200037|Cancellation Conf...|\n",
            "|200041|Cancellation Conf...|\n",
            "|200002|Cancellation Conf...|\n",
            "|200013|Cancellation Conf...|\n",
            "|200021|Cancellation Conf...|\n",
            "|200008|Cancellation Conf...|\n",
            "|200027|Cancellation Conf...|\n",
            "|200050|Cancellation Conf...|\n",
            "|200028|Cancellation Conf...|\n",
            "|200024|Cancellation Conf...|\n",
            "|200045|Cancellation Conf...|\n",
            "|200023|Cancellation Conf...|\n",
            "|200039|Cancellation Conf...|\n",
            "|200020|Cancellation Conf...|\n",
            "|300004|Cancellation Conf...|\n",
            "|300047|Cancellation Conf...|\n",
            "+------+--------------------+\n",
            "\n"
          ]
        }
      ],
      "source": [
        "user_count = df.select([\"userId\", \"page\"]).where(df[\"page\"] == \"Cancellation Confirmation\").count()\n",
        "\n",
        "df.select([\"userId\", \"page\"]).where(df.page == \"Cancellation Confirmation\").show(user_count)"
      ]
    },
    {
      "cell_type": "code",
      "execution_count": null,
      "metadata": {
        "id": "xtEeiPgrRpsI"
      },
      "outputs": [],
      "source": [
        "churn_event = udf(lambda x: 1 if x == 'Cancellation Confirmation' else 0, IntegerType())\n",
        "df = df.withColumn('churn', churn_event('page'))"
      ]
    },
    {
      "cell_type": "code",
      "execution_count": null,
      "metadata": {
        "colab": {
          "base_uri": "https://localhost:8080/"
        },
        "id": "TJLKoV6WRvcq",
        "outputId": "4a3b678f-973d-4f80-f4d5-649b43eebd57"
      },
      "outputs": [
        {
          "name": "stdout",
          "output_type": "stream",
          "text": [
            "+-----+-----+\n",
            "|churn|count|\n",
            "+-----+-----+\n",
            "|    1|   99|\n",
            "|    0|  349|\n",
            "+-----+-----+\n",
            "\n"
          ]
        }
      ],
      "source": [
        "windowval = Window.partitionBy('userId')\n",
        "df = df.withColumn('churn', max('churn').over(windowval))\n",
        "df.select(['userId', 'churn']).dropDuplicates().groupBy('churn').count().show()"
      ]
    },
    {
      "cell_type": "code",
      "execution_count": null,
      "metadata": {
        "colab": {
          "base_uri": "https://localhost:8080/"
        },
        "id": "Q0sFQlqXRyDg",
        "outputId": "7b37870e-74d1-4a43-aeeb-783b1c48c360"
      },
      "outputs": [
        {
          "name": "stdout",
          "output_type": "stream",
          "text": [
            "+--------------------+-----+\n",
            "|                page|churn|\n",
            "+--------------------+-----+\n",
            "|Cancellation Conf...|    1|\n",
            "|Cancellation Conf...|    1|\n",
            "|Cancellation Conf...|    1|\n",
            "|Cancellation Conf...|    1|\n",
            "|Cancellation Conf...|    1|\n",
            "+--------------------+-----+\n",
            "only showing top 5 rows\n",
            "\n"
          ]
        }
      ],
      "source": [
        "df.select([\"page\",\"churn\"]).where(df.page == \"Cancellation Confirmation\").show(5)"
      ]
    },
    {
      "cell_type": "code",
      "execution_count": null,
      "metadata": {
        "colab": {
          "base_uri": "https://localhost:8080/"
        },
        "id": "Ewmq3wMjR2UK",
        "outputId": "e27a9380-297d-4c9a-9ea8-13c2734e90ba"
      },
      "outputs": [
        {
          "name": "stdout",
          "output_type": "stream",
          "text": [
            "+--------+-----+\n",
            "|    page|churn|\n",
            "+--------+-----+\n",
            "|NextSong|    1|\n",
            "|    Home|    1|\n",
            "|NextSong|    1|\n",
            "|NextSong|    1|\n",
            "|NextSong|    1|\n",
            "+--------+-----+\n",
            "only showing top 5 rows\n",
            "\n"
          ]
        }
      ],
      "source": [
        "df.select([\"page\",\"churn\"]).where(df.page != \"Cancellation Confirmation\").show(5)"
      ]
    },
    {
      "cell_type": "code",
      "execution_count": null,
      "metadata": {
        "colab": {
          "base_uri": "https://localhost:8080/",
          "height": 468
        },
        "id": "Fgf-SL-ZR5ch",
        "outputId": "64a2433f-2f02-477c-ef2f-b158b63d789a"
      },
      "outputs": [
        {
          "data": {
            "text/html": [
              "\n",
              "  <div id=\"df-25f23c60-3f78-43a4-bbe7-03a8ff39e5cf\">\n",
              "    <div class=\"colab-df-container\">\n",
              "      <div>\n",
              "<style scoped>\n",
              "    .dataframe tbody tr th:only-of-type {\n",
              "        vertical-align: middle;\n",
              "    }\n",
              "\n",
              "    .dataframe tbody tr th {\n",
              "        vertical-align: top;\n",
              "    }\n",
              "\n",
              "    .dataframe thead th {\n",
              "        text-align: right;\n",
              "    }\n",
              "</style>\n",
              "<table border=\"1\" class=\"dataframe\">\n",
              "  <thead>\n",
              "    <tr style=\"text-align: right;\">\n",
              "      <th></th>\n",
              "      <th>artist</th>\n",
              "      <th>auth</th>\n",
              "      <th>firstName</th>\n",
              "      <th>gender</th>\n",
              "      <th>itemInSession</th>\n",
              "      <th>lastName</th>\n",
              "      <th>length</th>\n",
              "      <th>level</th>\n",
              "      <th>location</th>\n",
              "      <th>method</th>\n",
              "      <th>page</th>\n",
              "      <th>registration</th>\n",
              "      <th>sessionId</th>\n",
              "      <th>song</th>\n",
              "      <th>status</th>\n",
              "      <th>ts</th>\n",
              "      <th>userAgent</th>\n",
              "      <th>userId</th>\n",
              "      <th>churn</th>\n",
              "    </tr>\n",
              "  </thead>\n",
              "  <tbody>\n",
              "    <tr>\n",
              "      <th>0</th>\n",
              "      <td>None</td>\n",
              "      <td>Logged In</td>\n",
              "      <td>Colin</td>\n",
              "      <td>M</td>\n",
              "      <td>0</td>\n",
              "      <td>Larson</td>\n",
              "      <td>NaN</td>\n",
              "      <td>free</td>\n",
              "      <td>Dallas-Fort Worth-Arlington, TX</td>\n",
              "      <td>GET</td>\n",
              "      <td>Home</td>\n",
              "      <td>1537982255000</td>\n",
              "      <td>497</td>\n",
              "      <td>None</td>\n",
              "      <td>200</td>\n",
              "      <td>1538352241000</td>\n",
              "      <td>Mozilla/5.0 (Windows NT 6.1; WOW64; rv:30.0) G...</td>\n",
              "      <td>100</td>\n",
              "      <td>0</td>\n",
              "    </tr>\n",
              "    <tr>\n",
              "      <th>1</th>\n",
              "      <td>Amy Winehouse</td>\n",
              "      <td>Logged In</td>\n",
              "      <td>Colin</td>\n",
              "      <td>M</td>\n",
              "      <td>1</td>\n",
              "      <td>Larson</td>\n",
              "      <td>201.50812</td>\n",
              "      <td>free</td>\n",
              "      <td>Dallas-Fort Worth-Arlington, TX</td>\n",
              "      <td>PUT</td>\n",
              "      <td>NextSong</td>\n",
              "      <td>1537982255000</td>\n",
              "      <td>497</td>\n",
              "      <td>Teach Me Tonight</td>\n",
              "      <td>200</td>\n",
              "      <td>1538352259000</td>\n",
              "      <td>Mozilla/5.0 (Windows NT 6.1; WOW64; rv:30.0) G...</td>\n",
              "      <td>100</td>\n",
              "      <td>0</td>\n",
              "    </tr>\n",
              "    <tr>\n",
              "      <th>2</th>\n",
              "      <td>The Strokes</td>\n",
              "      <td>Logged In</td>\n",
              "      <td>Colin</td>\n",
              "      <td>M</td>\n",
              "      <td>2</td>\n",
              "      <td>Larson</td>\n",
              "      <td>187.34975</td>\n",
              "      <td>free</td>\n",
              "      <td>Dallas-Fort Worth-Arlington, TX</td>\n",
              "      <td>PUT</td>\n",
              "      <td>NextSong</td>\n",
              "      <td>1537982255000</td>\n",
              "      <td>497</td>\n",
              "      <td>You Only Live Once</td>\n",
              "      <td>200</td>\n",
              "      <td>1538352460000</td>\n",
              "      <td>Mozilla/5.0 (Windows NT 6.1; WOW64; rv:30.0) G...</td>\n",
              "      <td>100</td>\n",
              "      <td>0</td>\n",
              "    </tr>\n",
              "  </tbody>\n",
              "</table>\n",
              "</div>\n",
              "      <button class=\"colab-df-convert\" onclick=\"convertToInteractive('df-25f23c60-3f78-43a4-bbe7-03a8ff39e5cf')\"\n",
              "              title=\"Convert this dataframe to an interactive table.\"\n",
              "              style=\"display:none;\">\n",
              "        \n",
              "  <svg xmlns=\"http://www.w3.org/2000/svg\" height=\"24px\"viewBox=\"0 0 24 24\"\n",
              "       width=\"24px\">\n",
              "    <path d=\"M0 0h24v24H0V0z\" fill=\"none\"/>\n",
              "    <path d=\"M18.56 5.44l.94 2.06.94-2.06 2.06-.94-2.06-.94-.94-2.06-.94 2.06-2.06.94zm-11 1L8.5 8.5l.94-2.06 2.06-.94-2.06-.94L8.5 2.5l-.94 2.06-2.06.94zm10 10l.94 2.06.94-2.06 2.06-.94-2.06-.94-.94-2.06-.94 2.06-2.06.94z\"/><path d=\"M17.41 7.96l-1.37-1.37c-.4-.4-.92-.59-1.43-.59-.52 0-1.04.2-1.43.59L10.3 9.45l-7.72 7.72c-.78.78-.78 2.05 0 2.83L4 21.41c.39.39.9.59 1.41.59.51 0 1.02-.2 1.41-.59l7.78-7.78 2.81-2.81c.8-.78.8-2.07 0-2.86zM5.41 20L4 18.59l7.72-7.72 1.47 1.35L5.41 20z\"/>\n",
              "  </svg>\n",
              "      </button>\n",
              "      \n",
              "  <style>\n",
              "    .colab-df-container {\n",
              "      display:flex;\n",
              "      flex-wrap:wrap;\n",
              "      gap: 12px;\n",
              "    }\n",
              "\n",
              "    .colab-df-convert {\n",
              "      background-color: #E8F0FE;\n",
              "      border: none;\n",
              "      border-radius: 50%;\n",
              "      cursor: pointer;\n",
              "      display: none;\n",
              "      fill: #1967D2;\n",
              "      height: 32px;\n",
              "      padding: 0 0 0 0;\n",
              "      width: 32px;\n",
              "    }\n",
              "\n",
              "    .colab-df-convert:hover {\n",
              "      background-color: #E2EBFA;\n",
              "      box-shadow: 0px 1px 2px rgba(60, 64, 67, 0.3), 0px 1px 3px 1px rgba(60, 64, 67, 0.15);\n",
              "      fill: #174EA6;\n",
              "    }\n",
              "\n",
              "    [theme=dark] .colab-df-convert {\n",
              "      background-color: #3B4455;\n",
              "      fill: #D2E3FC;\n",
              "    }\n",
              "\n",
              "    [theme=dark] .colab-df-convert:hover {\n",
              "      background-color: #434B5C;\n",
              "      box-shadow: 0px 1px 3px 1px rgba(0, 0, 0, 0.15);\n",
              "      filter: drop-shadow(0px 1px 2px rgba(0, 0, 0, 0.3));\n",
              "      fill: #FFFFFF;\n",
              "    }\n",
              "  </style>\n",
              "\n",
              "      <script>\n",
              "        const buttonEl =\n",
              "          document.querySelector('#df-25f23c60-3f78-43a4-bbe7-03a8ff39e5cf button.colab-df-convert');\n",
              "        buttonEl.style.display =\n",
              "          google.colab.kernel.accessAllowed ? 'block' : 'none';\n",
              "\n",
              "        async function convertToInteractive(key) {\n",
              "          const element = document.querySelector('#df-25f23c60-3f78-43a4-bbe7-03a8ff39e5cf');\n",
              "          const dataTable =\n",
              "            await google.colab.kernel.invokeFunction('convertToInteractive',\n",
              "                                                     [key], {});\n",
              "          if (!dataTable) return;\n",
              "\n",
              "          const docLinkHtml = 'Like what you see? Visit the ' +\n",
              "            '<a target=\"_blank\" href=https://colab.research.google.com/notebooks/data_table.ipynb>data table notebook</a>'\n",
              "            + ' to learn more about interactive tables.';\n",
              "          element.innerHTML = '';\n",
              "          dataTable['output_type'] = 'display_data';\n",
              "          await google.colab.output.renderOutput(dataTable, element);\n",
              "          const docLink = document.createElement('div');\n",
              "          docLink.innerHTML = docLinkHtml;\n",
              "          element.appendChild(docLink);\n",
              "        }\n",
              "      </script>\n",
              "    </div>\n",
              "  </div>\n",
              "  "
            ],
            "text/plain": [
              "          artist       auth firstName gender  itemInSession lastName  \\\n",
              "0           None  Logged In     Colin      M              0   Larson   \n",
              "1  Amy Winehouse  Logged In     Colin      M              1   Larson   \n",
              "2    The Strokes  Logged In     Colin      M              2   Larson   \n",
              "\n",
              "      length level                         location method      page  \\\n",
              "0        NaN  free  Dallas-Fort Worth-Arlington, TX    GET      Home   \n",
              "1  201.50812  free  Dallas-Fort Worth-Arlington, TX    PUT  NextSong   \n",
              "2  187.34975  free  Dallas-Fort Worth-Arlington, TX    PUT  NextSong   \n",
              "\n",
              "    registration  sessionId                song  status             ts  \\\n",
              "0  1537982255000        497                None     200  1538352241000   \n",
              "1  1537982255000        497    Teach Me Tonight     200  1538352259000   \n",
              "2  1537982255000        497  You Only Live Once     200  1538352460000   \n",
              "\n",
              "                                           userAgent userId  churn  \n",
              "0  Mozilla/5.0 (Windows NT 6.1; WOW64; rv:30.0) G...    100      0  \n",
              "1  Mozilla/5.0 (Windows NT 6.1; WOW64; rv:30.0) G...    100      0  \n",
              "2  Mozilla/5.0 (Windows NT 6.1; WOW64; rv:30.0) G...    100      0  "
            ]
          },
          "execution_count": 24,
          "metadata": {},
          "output_type": "execute_result"
        }
      ],
      "source": [
        "df_pandas = df.toPandas()\n",
        "df_pandas.head(3)"
      ]
    },
    {
      "cell_type": "code",
      "execution_count": null,
      "metadata": {
        "colab": {
          "base_uri": "https://localhost:8080/"
        },
        "id": "7QNu83LvR9FP",
        "outputId": "0a9d12a9-9998-4cab-d938-5fbc76273d0d"
      },
      "outputs": [
        {
          "name": "stdout",
          "output_type": "stream",
          "text": [
            "+-----+------+-----+\n",
            "|churn|gender|count|\n",
            "+-----+------+-----+\n",
            "|    1|     F|   45|\n",
            "|    0|     M|  196|\n",
            "|    1|     M|   54|\n",
            "|    0|     F|  153|\n",
            "+-----+------+-----+\n",
            "\n"
          ]
        }
      ],
      "source": [
        "# churn status by gender\n",
        "df.dropDuplicates(['userId', 'gender']).groupby(['churn', 'gender']).count().show()"
      ]
    },
    {
      "cell_type": "code",
      "execution_count": null,
      "metadata": {
        "colab": {
          "base_uri": "https://localhost:8080/"
        },
        "id": "vLjtnL2OSNDE",
        "outputId": "f92843e7-3efa-4a3e-f7a2-a8d2e9904d3b"
      },
      "outputs": [
        {
          "name": "stdout",
          "output_type": "stream",
          "text": [
            "+-----+-----+-----+\n",
            "|churn|level|count|\n",
            "+-----+-----+-----+\n",
            "|    0| free|  288|\n",
            "|    0| paid|  246|\n",
            "|    1| paid|   75|\n",
            "|    1| free|   82|\n",
            "+-----+-----+-----+\n",
            "\n"
          ]
        }
      ],
      "source": [
        "# churn status by paid lever\n",
        "df.dropDuplicates(['userId', 'level']).groupby(['churn', 'level']).count().show()"
      ]
    },
    {
      "cell_type": "code",
      "execution_count": null,
      "metadata": {
        "colab": {
          "base_uri": "https://localhost:8080/",
          "height": 410
        },
        "id": "7eqDLdV5STNX",
        "outputId": "79f8cf6a-1772-4753-d219-8be58a42b9b0"
      },
      "outputs": [
        {
          "data": {
            "image/png": "[encoded data removed]",
            "text/plain": [
              "<Figure size 576x432 with 1 Axes>"
            ]
          },
          "metadata": {},
          "output_type": "display_data"
        }
      ],
      "source": [
        "# Comparison between the behavior of Males and Females\n",
        "barplot_gender_churn = df.dropDuplicates([\"userId\", \"gender\"]).groupby([\"churn\", \"gender\"]).count().sort(\"churn\").toPandas()\n",
        "\n",
        "plt.figure(figsize = [8,6])\n",
        "ax = sns.barplot(x='churn', y='count', hue='gender', data=barplot_gender_churn)\n",
        "\n",
        "plt.xlabel('0 = Not Churned .. 1 = Churned')\n",
        "plt.ylabel('Count')\n",
        "plt.legend(title='Gender', loc='best')\n",
        "plt.title('Comparison between the behavior of Males and Females')\n",
        "\n",
        "sns.despine(ax=ax);"
      ]
    },
    {
      "cell_type": "code",
      "execution_count": null,
      "metadata": {
        "colab": {
          "base_uri": "https://localhost:8080/",
          "height": 427
        },
        "id": "xuf78TEQSWim",
        "outputId": "264c873b-313e-4da7-c2e8-82d95da66fc5"
      },
      "outputs": [
        {
          "data": {
            "text/plain": [
              "<matplotlib.legend.Legend at 0x7f8863884e10>"
            ]
          },
          "execution_count": 28,
          "metadata": {},
          "output_type": "execute_result"
        },
        {
          "data": {
            "image/png": "[encoded data removed]",
            "text/plain": [
              "<Figure size 576x432 with 1 Axes>"
            ]
          },
          "metadata": {},
          "output_type": "display_data"
        }
      ],
      "source": [
        "level_barplot = df.select(['userId', 'churn', 'level']).dropDuplicates().groupBy('level','churn').count().toPandas()\n",
        "\n",
        "plt.figure(figsize = [8,6])\n",
        "ax = sns.barplot(data = level_barplot, x = 'churn', y='count', hue = 'level')\n",
        "plt.ylabel('Count')\n",
        "plt.xlabel('0 = Not Churned .. 1 = Churned')\n",
        "plt.title('Who Churned the most by the Level')\n",
        "\n",
        "ax.legend(title = 'Level', loc='best')"
      ]
    },
    {
      "cell_type": "code",
      "execution_count": null,
      "metadata": {
        "colab": {
          "base_uri": "https://localhost:8080/",
          "height": 778
        },
        "id": "o4RYozOVSa1V",
        "outputId": "c2d13d65-af17-4843-8a22-75f35cf5b037"
      },
      "outputs": [
        {
          "data": {
            "text/plain": [
              "<matplotlib.legend.Legend at 0x7f885a656950>"
            ]
          },
          "execution_count": 29,
          "metadata": {},
          "output_type": "execute_result"
        },
        {
          "data": {
            "image/png": "[encoded data removed]",
            "text/plain": [
              "<Figure size 1152x720 with 1 Axes>"
            ]
          },
          "metadata": {},
          "output_type": "display_data"
        }
      ],
      "source": [
        "# Getting the data needed, next song dropped because it's affecting the data visualization \n",
        "users_1 = df_pandas[df_pandas.churn == 1].groupby(['page'])['userId'].count().drop('NextSong')\n",
        "users_0 = df_pandas[df_pandas.churn == 0].groupby(['page'])['userId'].count().drop('NextSong')\n",
        "\n",
        "# Calculating the percentage\n",
        "users_1 = users_1 /users_1.sum()*100\n",
        "users_0 = users_0 /users_0.sum()*100\n",
        "\n",
        "# Creating a dataframe containing both cancelled and active users\n",
        "plot_df = pd.DataFrame({'Cancelled': users_1,'Active users':users_0})\n",
        "\n",
        "# Creating the barplot\n",
        "ax = plot_df.plot(kind='bar', figsize=(16,10));\n",
        "ax.set_xlabel('Percentage of user actions')\n",
        "ax.set_title('Percentage of user actions for active and cancelled users')\n",
        "ax.legend(loc='best')"
      ]
    },
    {
      "cell_type": "code",
      "execution_count": null,
      "metadata": {
        "colab": {
          "base_uri": "https://localhost:8080/"
        },
        "id": "P5qCQTloSdg7",
        "outputId": "1c5fef37-335c-4608-8257-9b5a8013785f"
      },
      "outputs": [
        {
          "name": "stdout",
          "output_type": "stream",
          "text": [
            "+-------+------------------+------------------+\n",
            "|summary|            userId|            gender|\n",
            "+-------+------------------+------------------+\n",
            "|  count|               448|               448|\n",
            "|   mean| 67520.34821428571|0.4419642857142857|\n",
            "| stddev|105964.58428485185|0.4971756279079039|\n",
            "|    min|                10|                 0|\n",
            "|    max|                99|                 1|\n",
            "+-------+------------------+------------------+\n",
            "\n"
          ]
        }
      ],
      "source": [
        "# only take userId, gender and drop duplicates\n",
        "gender_changed_m0_f1 = df.select(['userId', 'gender']).dropDuplicates()\n",
        "# update the value of gender column\n",
        "gender_changed_m0_f1 = gender_changed_m0_f1.withColumn('gender', when(col('gender') == 'M', 0).otherwise(1))\n",
        "gender_changed_m0_f1.describe().show()"
      ]
    },
    {
      "cell_type": "code",
      "execution_count": null,
      "metadata": {
        "colab": {
          "base_uri": "https://localhost:8080/"
        },
        "id": "v3f0k2wtcBX_",
        "outputId": "54bd5724-cb17-4634-c55d-2e6c6682e9b6"
      },
      "outputs": [
        {
          "name": "stdout",
          "output_type": "stream",
          "text": [
            "+------+-----+-------------+----+\n",
            "|userId|level|           ts|rank|\n",
            "+------+-----+-------------+----+\n",
            "|    10| paid|1539055364000|   1|\n",
            "|    10| paid|1539055349000|   2|\n",
            "|    10| paid|1539055348000|   3|\n",
            "|    10| paid|1539055323000|   4|\n",
            "|    10| paid|1539055047000|   5|\n",
            "|    10| paid|1539054916000|   6|\n",
            "|    10| paid|1539054915000|   7|\n",
            "|    10| paid|1539054663000|   8|\n",
            "|    10| paid|1539054454000|   9|\n",
            "|    10| paid|1539054219000|  10|\n",
            "+------+-----+-------------+----+\n",
            "only showing top 10 rows\n",
            "\n"
          ]
        }
      ],
      "source": [
        "# only take userId, level, ts and drop duplicates \n",
        "# To perform an operation on a group we need to partition the data\n",
        "df_level = df.select(['userId', 'level', 'ts']).dropDuplicates().sort('userId')\n",
        "w = Window.partitionBy(\"userId\").orderBy(desc(\"ts\"))\n",
        "# the rank of rows within a window partition, with gaps.\n",
        "df_level = df_level.withColumn(\"rank\", dense_rank().over(w))\n",
        "df_level.show(10)"
      ]
    },
    {
      "cell_type": "code",
      "execution_count": null,
      "metadata": {
        "colab": {
          "base_uri": "https://localhost:8080/"
        },
        "id": "HW5FRl1McXxg",
        "outputId": "11877fc1-6841-4217-8e47-c39f82428732"
      },
      "outputs": [
        {
          "name": "stdout",
          "output_type": "stream",
          "text": [
            "+-------+------------------+-------------------+\n",
            "|summary|            userId|              level|\n",
            "+-------+------------------+-------------------+\n",
            "|  count|               448|                448|\n",
            "|   mean| 67520.34821428571| 0.6160714285714286|\n",
            "| stddev|105964.58428485185|0.48688455263386654|\n",
            "|    min|                10|                  0|\n",
            "|    max|                99|                  1|\n",
            "+-------+------------------+-------------------+\n",
            "\n"
          ]
        }
      ],
      "source": [
        "# Filters rows using the given condition\n",
        "df_level2 = df_level.filter(df_level.rank == 1).drop(df_level.rank)\n",
        "# Dropping ts becouse there is no need for it\n",
        "df_level2 = df_level2.drop('ts')\n",
        "# update the value of level column\n",
        "df_level2 = df_level2.withColumn('level', when(col('level') == 'free', 0).otherwise(1))\n",
        "df_level2.describe().show()"
      ]
    },
    {
      "cell_type": "code",
      "execution_count": null,
      "metadata": {
        "colab": {
          "base_uri": "https://localhost:8080/"
        },
        "id": "1jk-umD3cdMx",
        "outputId": "6f7e1c34-7587-4502-84e0-54e77dea674a"
      },
      "outputs": [
        {
          "name": "stdout",
          "output_type": "stream",
          "text": [
            "+-------+------------------+-------------------+\n",
            "|summary|            userId|              level|\n",
            "+-------+------------------+-------------------+\n",
            "|  count|               448|                448|\n",
            "|   mean| 67520.34821428571| 0.6160714285714286|\n",
            "| stddev|105964.58428485185|0.48688455263386654|\n",
            "|    min|                10|                  0|\n",
            "|    max|                99|                  1|\n",
            "+-------+------------------+-------------------+\n",
            "\n"
          ]
        }
      ],
      "source": [
        "# Filters rows using the given condition\n",
        "df_level2 = df_level.filter(df_level.rank == 1).drop(df_level.rank)\n",
        "# Dropping ts becouse there is no need for it\n",
        "df_level2 = df_level2.drop('ts')\n",
        "# update the value of level column\n",
        "df_level2 = df_level2.withColumn('level', when(col('level') == 'free', 0).otherwise(1))\n",
        "df_level2.describe().show()"
      ]
    },
    {
      "cell_type": "code",
      "execution_count": null,
      "metadata": {
        "colab": {
          "base_uri": "https://localhost:8080/"
        },
        "id": "mQuW4qRgcv4k",
        "outputId": "03b5e922-ff5e-495a-e175-abdc2e61fb62"
      },
      "outputs": [
        {
          "name": "stdout",
          "output_type": "stream",
          "text": [
            "+-------+------------------+------------------+\n",
            "|summary|            userId|       thumbs_down|\n",
            "+-------+------------------+------------------+\n",
            "|  count|               448|               448|\n",
            "|   mean| 67520.34821428571|10.962053571428571|\n",
            "| stddev|105964.58428485185|13.356609011067462|\n",
            "|    min|                10|                 0|\n",
            "|    max|                99|                80|\n",
            "+-------+------------------+------------------+\n",
            "\n"
          ]
        }
      ],
      "source": [
        "# only take userId and page\n",
        "thumbdown_feature = df.select([\"userId\", \"page\"])\n",
        "thumbdown_feature = thumbdown_feature.withColumn(\"Thumbs Down\", udf(lambda x: 1 if x == \"Thumbs Down\" else 0, IntegerType())(\"page\"))\n",
        "# summing the number of thumbe downs for each user and assign it to column thumbs_down\n",
        "thumbdown_feature = thumbdown_feature.groupby('userId').sum(\"Thumbs Down\")\n",
        "thumbdown_feature = thumbdown_feature.withColumnRenamed(\"sum(Thumbs Down)\", \"thumbs_down\")\n",
        "thumbdown_feature.describe().show(10)"
      ]
    },
    {
      "cell_type": "code",
      "execution_count": null,
      "metadata": {
        "colab": {
          "base_uri": "https://localhost:8080/"
        },
        "id": "fWKa5Btccfb4",
        "outputId": "ece9164b-0d48-4b83-9ada-065a1077aba9"
      },
      "outputs": [
        {
          "name": "stdout",
          "output_type": "stream",
          "text": [
            "+-------+------------------+------------------+\n",
            "|summary|            userId|         thumbs_up|\n",
            "+-------+------------------+------------------+\n",
            "|  count|               448|               448|\n",
            "|   mean| 67520.34821428571|53.183035714285715|\n",
            "| stddev|105964.58428485185| 69.65210755898285|\n",
            "|    min|                10|                 0|\n",
            "|    max|                99|               506|\n",
            "+-------+------------------+------------------+\n",
            "\n"
          ]
        }
      ],
      "source": [
        "# only take userId and page\n",
        "thumbup_feature = df.select([\"userId\", \"page\"])\n",
        "thumbup_feature = thumbup_feature.withColumn(\"Thumbs Up\", udf(lambda x: 1 if x == \"Thumbs Up\" else 0, IntegerType())(\"page\"))\n",
        "# summing the number of thumbe ups for each user and assign it to column thumbs_down\n",
        "thumbup_feature = thumbup_feature.groupby('userId').sum(\"Thumbs Up\")\n",
        "thumbup_feature = thumbup_feature.withColumnRenamed(\"sum(Thumbs Up)\", \"thumbs_up\")\n",
        "thumbup_feature.describe().show()"
      ]
    },
    {
      "cell_type": "code",
      "execution_count": null,
      "metadata": {
        "colab": {
          "base_uri": "https://localhost:8080/"
        },
        "id": "zdQI5jSnchf4",
        "outputId": "6f3a33ca-551a-45e0-c2e5-0f23bbd55e8f"
      },
      "outputs": [
        {
          "name": "stdout",
          "output_type": "stream",
          "text": [
            "+------+-----+\n",
            "|userId|count|\n",
            "+------+-----+\n",
            "|   296|  109|\n",
            "|100010|   95|\n",
            "|200002|  288|\n",
            "|   125|   62|\n",
            "|   124| 1241|\n",
            "+------+-----+\n",
            "only showing top 5 rows\n",
            "\n"
          ]
        }
      ],
      "source": [
        "# only take userId, artist and drop duplicates and count how many time a singel user listened to the same artist\n",
        "listenedTo_artists = df.select(\"userId\", \"artist\").dropDuplicates().groupby(\"userId\").count()\n",
        "listenedTo_artists.show(5)"
      ]
    },
    {
      "cell_type": "code",
      "execution_count": null,
      "metadata": {
        "colab": {
          "base_uri": "https://localhost:8080/"
        },
        "id": "QgK3XGGLckf7",
        "outputId": "a91dfd53-df10-4e46-b535-4d50835168f2"
      },
      "outputs": [
        {
          "name": "stdout",
          "output_type": "stream",
          "text": [
            "+-------+------------------+----------------------------+\n",
            "|summary|            userId|number_of_artists_listenedTo|\n",
            "+-------+------------------+----------------------------+\n",
            "|  count|               448|                         448|\n",
            "|   mean| 67520.34821428571|           659.9799107142857|\n",
            "| stddev|105964.58428485188|            625.882698051957|\n",
            "|    min|                10|                           2|\n",
            "|    max|                99|                        3508|\n",
            "+-------+------------------+----------------------------+\n",
            "\n"
          ]
        }
      ],
      "source": [
        "# update the value of count column\n",
        "listenedTo_artists = listenedTo_artists.withColumnRenamed(\"count\", \"number_of_artists_listenedTo\")\n",
        "listenedTo_artists.describe().show()"
      ]
    },
    {
      "cell_type": "code",
      "execution_count": null,
      "metadata": {
        "colab": {
          "base_uri": "https://localhost:8080/"
        },
        "id": "rEdjQUo8cnCc",
        "outputId": "fd38170f-8771-4f10-c78a-c4bb96cfbd3b"
      },
      "outputs": [
        {
          "name": "stdout",
          "output_type": "stream",
          "text": [
            "+------+-----+-----+\n",
            "|userId|churn|count|\n",
            "+------+-----+-----+\n",
            "|    10|    1|    1|\n",
            "|   100|    0|    1|\n",
            "|100001|    1|    1|\n",
            "|100002|    0|    1|\n",
            "|100003|    1|    1|\n",
            "+------+-----+-----+\n",
            "only showing top 5 rows\n",
            "\n"
          ]
        }
      ],
      "source": [
        "# only take userId, churn and drop duplicates, group by userId nnd churn\n",
        "label = df.select(\"userId\", \"churn\").dropDuplicates().groupby(\"userId\", \"churn\").count()\n",
        "label.count()\n",
        "label.show(5)"
      ]
    },
    {
      "cell_type": "code",
      "execution_count": null,
      "metadata": {
        "colab": {
          "base_uri": "https://localhost:8080/"
        },
        "id": "6oJxYe_Tcr5n",
        "outputId": "c346058d-b356-4492-bef8-4ba86d825237"
      },
      "outputs": [
        {
          "name": "stdout",
          "output_type": "stream",
          "text": [
            "+------+-----+\n",
            "|userId|label|\n",
            "+------+-----+\n",
            "|    10|    1|\n",
            "|   100|    0|\n",
            "|100001|    1|\n",
            "|100002|    0|\n",
            "|100003|    1|\n",
            "|100004|    1|\n",
            "|100005|    1|\n",
            "|100006|    0|\n",
            "|100007|    0|\n",
            "|100008|    0|\n",
            "+------+-----+\n",
            "only showing top 10 rows\n",
            "\n"
          ]
        }
      ],
      "source": [
        "# dropping count column and renameing churn to label\n",
        "label = label.drop('count')\n",
        "label = label.withColumnRenamed(\"churn\", \"label\")\n",
        "label.show(10)"
      ]
    },
    {
      "cell_type": "code",
      "execution_count": null,
      "metadata": {
        "colab": {
          "base_uri": "https://localhost:8080/"
        },
        "id": "MlbbQIB1ctcn",
        "outputId": "b8693ec4-c57f-4997-ad86-b9ad6ef1f1c5"
      },
      "outputs": [
        {
          "name": "stdout",
          "output_type": "stream",
          "text": [
            "+------+-----+-----------+---------+----------------------------+-----+\n",
            "|gender|level|thumbs_down|thumbs_up|number_of_artists_listenedTo|label|\n",
            "+------+-----+-----------+---------+----------------------------+-----+\n",
            "|     0|    1|          1|       17|                         307|    1|\n",
            "|     0|    1|         37|      143|                        1964|    0|\n",
            "|     1|    0|          1|        5|                          94|    1|\n",
            "|     1|    0|          2|        8|                         129|    0|\n",
            "|     1|    1|         10|       16|                         546|    1|\n",
            "|     1|    0|          2|       15|                         243|    1|\n",
            "|     0|    0|          1|        2|                          70|    1|\n",
            "|     1|    0|          3|       14|                         262|    0|\n",
            "|     1|    0|          6|       40|                         681|    0|\n",
            "|     1|    1|          5|       19|                         337|    0|\n",
            "+------+-----+-----------+---------+----------------------------+-----+\n",
            "only showing top 10 rows\n",
            "\n"
          ]
        }
      ],
      "source": [
        "features_join_df = gender_changed_m0_f1\\\n",
        "                   .join(df_level2, [\"userId\"])\\\n",
        "                   .join(thumbdown_feature, [\"userId\"])\\\n",
        "                   .join(thumbup_feature, [\"userId\"])\\\n",
        "                   .join(listenedTo_artists, [\"userId\"])\\\n",
        "                   .join(label, [\"userId\"])\\\n",
        "                   .drop('userID')\n",
        "features_join_df.show(10)"
      ]
    },
    {
      "cell_type": "code",
      "execution_count": null,
      "metadata": {
        "colab": {
          "base_uri": "https://localhost:8080/"
        },
        "id": "nJFQRuUxdfaJ",
        "outputId": "5c071d98-1389-4622-977c-be4e4fe4f418"
      },
      "outputs": [
        {
          "name": "stdout",
          "output_type": "stream",
          "text": [
            "root\n",
            " |-- gender: integer (nullable = false)\n",
            " |-- level: integer (nullable = false)\n",
            " |-- thumbs_down: long (nullable = true)\n",
            " |-- thumbs_up: long (nullable = true)\n",
            " |-- number_of_artists_listenedTo: long (nullable = false)\n",
            " |-- label: integer (nullable = true)\n",
            "\n"
          ]
        }
      ],
      "source": [
        "# Prints out the schema in the tree format and cehck for data types\n",
        "features_join_df.printSchema()"
      ]
    },
    {
      "cell_type": "code",
      "execution_count": null,
      "metadata": {
        "colab": {
          "base_uri": "https://localhost:8080/"
        },
        "id": "hvxLlj4Ldf5p",
        "outputId": "a58cb3c1-2715-41d1-84ea-389fad9fb09d"
      },
      "outputs": [
        {
          "name": "stdout",
          "output_type": "stream",
          "text": [
            "root\n",
            " |-- gender: float (nullable = false)\n",
            " |-- level: float (nullable = false)\n",
            " |-- thumbs_down: float (nullable = true)\n",
            " |-- thumbs_up: float (nullable = true)\n",
            " |-- number_of_artists_listenedTo: float (nullable = false)\n",
            " |-- label: float (nullable = true)\n",
            "\n"
          ]
        }
      ],
      "source": [
        "# loop to go throu all the columns and casting them to float type \n",
        "for i in features_join_df.columns:\n",
        "    features_join_df = features_join_df.withColumn(i, features_join_df[i].cast('float'))\n",
        "# Prints out the schema in the tree format and cehck for data types\n",
        "features_join_df.printSchema()"
      ]
    },
    {
      "cell_type": "code",
      "execution_count": null,
      "metadata": {
        "colab": {
          "base_uri": "https://localhost:8080/"
        },
        "id": "vFOAkc6ydh7F",
        "outputId": "d66bf64f-50c5-4a4e-9197-033c899e6a1f"
      },
      "outputs": [
        {
          "name": "stdout",
          "output_type": "stream",
          "text": [
            "+------+-----+-----------+---------+----------------------------+-----+--------------------+\n",
            "|gender|level|thumbs_down|thumbs_up|number_of_artists_listenedTo|label|          v_features|\n",
            "+------+-----+-----------+---------+----------------------------+-----+--------------------+\n",
            "|   0.0|  1.0|        1.0|     17.0|                       307.0|  1.0|[0.0,1.0,1.0,17.0...|\n",
            "|   0.0|  1.0|       37.0|    143.0|                      1964.0|  0.0|[0.0,1.0,37.0,143...|\n",
            "|   1.0|  0.0|        1.0|      5.0|                        94.0|  1.0|[1.0,0.0,1.0,5.0,...|\n",
            "|   1.0|  0.0|        2.0|      8.0|                       129.0|  0.0|[1.0,0.0,2.0,8.0,...|\n",
            "|   1.0|  1.0|       10.0|     16.0|                       546.0|  1.0|[1.0,1.0,10.0,16....|\n",
            "|   1.0|  0.0|        2.0|     15.0|                       243.0|  1.0|[1.0,0.0,2.0,15.0...|\n",
            "|   0.0|  0.0|        1.0|      2.0|                        70.0|  1.0|[0.0,0.0,1.0,2.0,...|\n",
            "|   1.0|  0.0|        3.0|     14.0|                       262.0|  0.0|[1.0,0.0,3.0,14.0...|\n",
            "|   1.0|  0.0|        6.0|     40.0|                       681.0|  0.0|[1.0,0.0,6.0,40.0...|\n",
            "|   1.0|  1.0|        5.0|     19.0|                       337.0|  0.0|[1.0,1.0,5.0,19.0...|\n",
            "+------+-----+-----------+---------+----------------------------+-----+--------------------+\n",
            "only showing top 10 rows\n",
            "\n"
          ]
        }
      ],
      "source": [
        "# Vector assembler\n",
        "columns = [\"gender\", \"level\", \"thumbs_down\", \"thumbs_up\", \"number_of_artists_listenedTo\"]\n",
        "v_assembler = VectorAssembler(inputCols=columns, outputCol=\"v_features\")\n",
        "features_join_df = v_assembler.transform(features_join_df)\n",
        "features_join_df.show(10)"
      ]
    },
    {
      "cell_type": "code",
      "execution_count": null,
      "metadata": {
        "colab": {
          "base_uri": "https://localhost:8080/"
        },
        "id": "9TbOnI3kdkgo",
        "outputId": "77ce4c2e-5bc3-42fc-da14-9384738ecf38"
      },
      "outputs": [
        {
          "name": "stdout",
          "output_type": "stream",
          "text": [
            "+------+-----+-----------+---------+----------------------------+-----+--------------------+--------------------+\n",
            "|gender|level|thumbs_down|thumbs_up|number_of_artists_listenedTo|label|          v_features|            features|\n",
            "+------+-----+-----------+---------+----------------------------+-----+--------------------+--------------------+\n",
            "|   0.0|  1.0|        1.0|     17.0|                       307.0|  1.0|[0.0,1.0,1.0,17.0...|[0.0,2.0538749783...|\n",
            "|   0.0|  1.0|       37.0|    143.0|                      1964.0|  0.0|[0.0,1.0,37.0,143...|[0.0,2.0538749783...|\n",
            "+------+-----+-----------+---------+----------------------------+-----+--------------------+--------------------+\n",
            "only showing top 2 rows\n",
            "\n"
          ]
        }
      ],
      "source": [
        "# standardize the features\n",
        "scaler = StandardScaler(inputCol=\"v_features\", outputCol=\"features\", withStd=True)\n",
        "scalerModel = scaler.fit(features_join_df)\n",
        "features_join_df = scalerModel.transform(features_join_df)\n",
        "features_join_df.show(2)"
      ]
    },
    {
      "cell_type": "code",
      "execution_count": null,
      "metadata": {
        "colab": {
          "base_uri": "https://localhost:8080/"
        },
        "id": "gYBtmbHidmnF",
        "outputId": "a8ca111f-ae49-4748-e63e-9948d3494563"
      },
      "outputs": [
        {
          "data": {
            "text/plain": [
              "271"
            ]
          },
          "execution_count": 48,
          "metadata": {},
          "output_type": "execute_result"
        }
      ],
      "source": [
        "# train test split\n",
        "train, test, validation= features_join_df.randomSplit([0.6, 0.2, 0.2], seed=1385)\n",
        "train_count = train.count()\n",
        "train_count"
      ]
    },
    {
      "cell_type": "code",
      "execution_count": null,
      "metadata": {
        "colab": {
          "base_uri": "https://localhost:8080/"
        },
        "id": "HATPhl3Mdpdu",
        "outputId": "f5b26e7c-56f2-44d6-b3c7-7d68b11ff5f1"
      },
      "outputs": [
        {
          "data": {
            "text/plain": [
              "99"
            ]
          },
          "execution_count": 49,
          "metadata": {},
          "output_type": "execute_result"
        }
      ],
      "source": [
        "test_count = test.count()\n",
        "test_count"
      ]
    },
    {
      "cell_type": "code",
      "execution_count": null,
      "metadata": {
        "colab": {
          "base_uri": "https://localhost:8080/"
        },
        "id": "eek-HdH7drhR",
        "outputId": "9b3b0d71-d5e5-4e91-d6cb-4d8015f266ab"
      },
      "outputs": [
        {
          "data": {
            "text/plain": [
              "78"
            ]
          },
          "execution_count": 50,
          "metadata": {},
          "output_type": "execute_result"
        }
      ],
      "source": [
        "validation_count = validation.count()\n",
        "validation_count"
      ]
    },
    {
      "cell_type": "code",
      "execution_count": null,
      "metadata": {
        "colab": {
          "base_uri": "https://localhost:8080/"
        },
        "id": "yIPKkABfd6Ex",
        "outputId": "72ff4f1e-1c72-41b3-9c65-61da98887d45"
      },
      "outputs": [
        {
          "name": "stdout",
          "output_type": "stream",
          "text": [
            "448\n"
          ]
        }
      ],
      "source": [
        "# printing the sum of all splits - must be 225 \n",
        "print(train_count + test_count + validation_count)"
      ]
    },
    {
      "cell_type": "code",
      "execution_count": null,
      "metadata": {
        "id": "QU0K9YtYd71K"
      },
      "outputs": [],
      "source": [
        "# create column called prediction and assign an intial value for all users \n",
        "f1_all_1 = test.withColumn('prediction', lit(1.0))\n",
        "f1_all_0 = test.withColumn('prediction', lit(0.0))"
      ]
    },
    {
      "cell_type": "code",
      "execution_count": null,
      "metadata": {
        "colab": {
          "base_uri": "https://localhost:8080/"
        },
        "id": "xZ1o0BCKd-Ad",
        "outputId": "9274520c-bab2-4efe-a488-06832de10e0f"
      },
      "outputs": [
        {
          "name": "stdout",
          "output_type": "stream",
          "text": [
            "+------+-----+-----------+---------+----------------------------+-----+--------------------+--------------------+----------+\n",
            "|gender|level|thumbs_down|thumbs_up|number_of_artists_listenedTo|label|          v_features|            features|prediction|\n",
            "+------+-----+-----------+---------+----------------------------+-----+--------------------+--------------------+----------+\n",
            "|   0.0|  0.0|        0.0|      1.0|                        49.0|  0.0|(5,[3,4],[1.0,49.0])|(5,[3,4],[0.01435...|       1.0|\n",
            "+------+-----+-----------+---------+----------------------------+-----+--------------------+--------------------+----------+\n",
            "only showing top 1 row\n",
            "\n"
          ]
        }
      ],
      "source": [
        "f1_all_1.show(1)"
      ]
    },
    {
      "cell_type": "code",
      "execution_count": null,
      "metadata": {
        "colab": {
          "base_uri": "https://localhost:8080/"
        },
        "id": "J9xJMEQxd_r2",
        "outputId": "39fc2fb9-d395-476b-db52-11639ee4cac5"
      },
      "outputs": [
        {
          "name": "stdout",
          "output_type": "stream",
          "text": [
            "+------+-----+-----------+---------+----------------------------+-----+--------------------+--------------------+----------+\n",
            "|gender|level|thumbs_down|thumbs_up|number_of_artists_listenedTo|label|          v_features|            features|prediction|\n",
            "+------+-----+-----------+---------+----------------------------+-----+--------------------+--------------------+----------+\n",
            "|   0.0|  0.0|        0.0|      1.0|                        49.0|  0.0|(5,[3,4],[1.0,49.0])|(5,[3,4],[0.01435...|       0.0|\n",
            "+------+-----+-----------+---------+----------------------------+-----+--------------------+--------------------+----------+\n",
            "only showing top 1 row\n",
            "\n"
          ]
        }
      ],
      "source": [
        "f1_all_0.show(1)"
      ]
    },
    {
      "cell_type": "code",
      "execution_count": null,
      "metadata": {
        "id": "Aw_4RHpheCey"
      },
      "outputs": [],
      "source": [
        "# evaluate\n",
        "evaluator = MulticlassClassificationEvaluator(predictionCol=\"prediction\")\n",
        "\n",
        "accuracy = evaluator.evaluate(f1_all_1, {evaluator.metricName: \"accuracy\"})\n",
        "f1_Score = evaluator.evaluate(f1_all_1, {evaluator.metricName: \"f1\"})"
      ]
    },
    {
      "cell_type": "code",
      "execution_count": null,
      "metadata": {
        "colab": {
          "base_uri": "https://localhost:8080/"
        },
        "id": "3pChrfn7eFk2",
        "outputId": "689ea646-a6c0-4eee-ae13-7403f3fca0f3"
      },
      "outputs": [
        {
          "name": "stdout",
          "output_type": "stream",
          "text": [
            "Accuracy for all users 1 : 26.262626262626267 %\n",
            "f1_Score for all users 1 : 0.10925252525252528\n"
          ]
        }
      ],
      "source": [
        "print(\"Accuracy for all users 1 : \" + str(accuracy * 100) + \" %\")\n",
        "print(\"f1_Score for all users 1 : \" + str(f1_Score))"
      ]
    },
    {
      "cell_type": "code",
      "execution_count": null,
      "metadata": {
        "id": "2Ph3J808eHZz"
      },
      "outputs": [],
      "source": [
        "# evaluate\n",
        "evaluator = MulticlassClassificationEvaluator(predictionCol=\"prediction\")\n",
        "\n",
        "accuracy = evaluator.evaluate(f1_all_0, {evaluator.metricName: \"accuracy\"})\n",
        "f1_Score = evaluator.evaluate(f1_all_0, {evaluator.metricName: \"f1\"})"
      ]
    },
    {
      "cell_type": "code",
      "execution_count": null,
      "metadata": {
        "colab": {
          "base_uri": "https://localhost:8080/"
        },
        "id": "09-4-GbUeJYA",
        "outputId": "3f471013-134b-4ab5-da86-004e85a00c94"
      },
      "outputs": [
        {
          "name": "stdout",
          "output_type": "stream",
          "text": [
            "Accuracy for all users 0 : 73.73737373737373 %\n",
            "f1_Score for all users 0 : 0.625910265445149\n"
          ]
        }
      ],
      "source": [
        "print(\"Accuracy for all users 0 : \" + str(accuracy * 100) + \" %\")\n",
        "print(\"f1_Score for all users 0 : \" + str(f1_Score))"
      ]
    },
    {
      "cell_type": "code",
      "execution_count": null,
      "metadata": {
        "colab": {
          "background_save": true
        },
        "id": "dK_T99PxeLJ6",
        "outputId": "b54ceb00-2db8-4690-96a5-13eb276bd5e8"
      },
      "outputs": [
        {
          "name": "stdout",
          "output_type": "stream",
          "text": [
            "Time taken to process training : 11.849255379041036 Minutes.\n",
            "-----------------------------------\n",
            "GBT Train Metrics:\n",
            "Accuracy : 76.92307692307693 %\n",
            "f1_Score : 0.7534965034965034\n"
          ]
        }
      ],
      "source": [
        "# creating the classifier\n",
        "gradient_boosted_tree = GBTClassifier(maxIter = 10, seed = 1385)\n",
        "\n",
        "# create evaluator\n",
        "gbt_f1_evaluator = MulticlassClassificationEvaluator(metricName='f1')\n",
        "\n",
        "# build param grid using ParamGridBuilder\n",
        "grid = ParamGridBuilder().build()\n",
        "\n",
        "# numFolds is 3 to speed up the process\n",
        "gbtCrossValue = CrossValidator(estimator = gradient_boosted_tree, \n",
        "                              estimatorParamMaps = grid,\n",
        "                              evaluator = gbt_f1_evaluator,\n",
        "                              numFolds = 3)\n",
        "# start time\n",
        "start = time.time()\n",
        "\n",
        "#  fit the models on train dataset\n",
        "cvModel_gbt = gbtCrossValue.fit(train)\n",
        "\n",
        "# end time\n",
        "end = time.time()\n",
        "\n",
        "time_take = end - start\n",
        "if time_take >= 60:\n",
        "    print(\"Time taken to process training : \" + str(time_take / 60) + \" Minutes.\")\n",
        "else:\n",
        "    print(\"Time taken to process training : \" + str(time_take) + \" Seconds.\")\n",
        "\n",
        "cvModel_gbt.avgMetrics\n",
        "gbt_results = cvModel_gbt.transform(validation)\n",
        "\n",
        "evaluator = MulticlassClassificationEvaluator(predictionCol=\"prediction\")\n",
        "\n",
        "print('-----------------------------------')\n",
        "print('GBT Train Metrics:')\n",
        "\n",
        "accuracy = evaluator.evaluate(gbt_results, {evaluator.metricName: \"accuracy\"})\n",
        "print(\"Accuracy : \" + str(accuracy * 100) + \" %\")\n",
        "\n",
        "f1_Score = evaluator.evaluate(gbt_results, {evaluator.metricName: \"f1\"})\n",
        "print(\"f1_Score : \" + str(f1_Score))"
      ]
    },
    {
      "cell_type": "code",
      "execution_count": null,
      "metadata": {
        "colab": {
          "background_save": true
        },
        "id": "_Gso64tfeOq0",
        "outputId": "2c356308-d646-4359-fe88-257f527470f8"
      },
      "outputs": [
        {
          "name": "stdout",
          "output_type": "stream",
          "text": [
            "Time taken to process training : 8.880055650075276 Minutes.\n",
            "-----------------------------------\n",
            "RF Train Metrics:\n",
            "Accuracy : 75.64102564102564 %\n",
            "f1_Score : 0.7067190716825753\n"
          ]
        }
      ],
      "source": [
        "# creating the classifier\n",
        "random_forest = RandomForestClassifier()\n",
        "\n",
        "# create evaluator\n",
        "rf_f1_evaluator = MulticlassClassificationEvaluator(metricName='f1')\n",
        "\n",
        "# build param grid using ParamGridBuilder\n",
        "grid = ParamGridBuilder().build()\n",
        "\n",
        "# numFolds is 3 to speed up the process\n",
        "rfCrossValue = CrossValidator(estimator = random_forest, \n",
        "                              estimatorParamMaps = grid,\n",
        "                              evaluator = rf_f1_evaluator,\n",
        "                              numFolds = 3)\n",
        "# start time\n",
        "start = time.time()\n",
        "\n",
        "#  fit the models on train dataset\n",
        "cvModel_rf = rfCrossValue.fit(train)\n",
        "\n",
        "# end time\n",
        "end = time.time()\n",
        "\n",
        "time_take = end - start\n",
        "if time_take >= 60:\n",
        "    print(\"Time taken to process training : \" + str(time_take / 60) + \" Minutes.\")\n",
        "else:\n",
        "    print(\"Time taken to process training : \" + str(time_take) + \" Seconds.\")\n",
        "\n",
        "cvModel_rf.avgMetrics\n",
        "rf_results = cvModel_rf.transform(validation)\n",
        "\n",
        "evaluator = MulticlassClassificationEvaluator(predictionCol=\"prediction\")\n",
        "\n",
        "print('-----------------------------------')\n",
        "print('RF Train Metrics:')\n",
        "\n",
        "accuracy = evaluator.evaluate(rf_results, {evaluator.metricName: \"accuracy\"})\n",
        "print(\"Accuracy : \" + str(accuracy * 100) + \" %\")\n",
        "\n",
        "f1_Score = evaluator.evaluate(rf_results, {evaluator.metricName: \"f1\"})\n",
        "print(\"f1_Score : \" + str(f1_Score))"
      ]
    },
    {
      "cell_type": "code",
      "execution_count": null,
      "metadata": {
        "colab": {
          "background_save": true
        },
        "id": "CVEjUQ9NeRnb",
        "outputId": "ba0a978b-a502-4647-cebd-e564e1a398e2"
      },
      "outputs": [
        {
          "name": "stdout",
          "output_type": "stream",
          "text": [
            "Time taken to process training : 7.800274181365967 Minutes.\n",
            "-----------------------------------\n",
            "LR Train Metrics:\n",
            "Accuracy : 76.92307692307693 %\n",
            "f1_Score : 0.713489409141583\n"
          ]
        }
      ],
      "source": [
        "# creating the classifier\n",
        "logistic_regression = LogisticRegression(maxIter=10)\n",
        "\n",
        "# create evaluator\n",
        "lr_f1_evaluator = MulticlassClassificationEvaluator(metricName='f1')\n",
        "\n",
        "# build param grid using ParamGridBuilder\n",
        "grid = ParamGridBuilder().build()\n",
        "\n",
        "# numFolds is 3 to speed up the process\n",
        "lrCrossValue = CrossValidator(estimator = logistic_regression, \n",
        "                              estimatorParamMaps = grid,\n",
        "                              evaluator = lr_f1_evaluator,\n",
        "                              numFolds = 3)\n",
        "# start time\n",
        "start = time.time()\n",
        "\n",
        "#  fit the models on train dataset\n",
        "cvModel_lr = lrCrossValue.fit(train)\n",
        "\n",
        "# end time\n",
        "end = time.time()\n",
        "\n",
        "time_take = end - start\n",
        "if time_take >= 60:\n",
        "    print(\"Time taken to process training : \" + str(time_take / 60) + \" Minutes.\")\n",
        "else:\n",
        "    print(\"Time taken to process training : \" + str(time_take) + \" Seconds.\")\n",
        "\n",
        "cvModel_lr.avgMetrics\n",
        "lr_results = cvModel_lr.transform(validation)\n",
        "\n",
        "evaluator = MulticlassClassificationEvaluator(predictionCol=\"prediction\")\n",
        "\n",
        "print('-----------------------------------')\n",
        "print('LR Train Metrics:')\n",
        "\n",
        "accuracy = evaluator.evaluate(lr_results, {evaluator.metricName: \"accuracy\"})\n",
        "print(\"Accuracy : \" + str(accuracy * 100) + \" %\")\n",
        "\n",
        "f1_Score = evaluator.evaluate(lr_results, {evaluator.metricName: \"f1\"})\n",
        "print(\"f1_Score : \" + str(f1_Score))"
      ]
    },
    {
      "cell_type": "code",
      "execution_count": null,
      "metadata": {
        "colab": {
          "background_save": true
        },
        "id": "m9qJ8lCyeUYz"
      },
      "outputs": [],
      "source": [
        "# creating the classifier\n",
        "random_forest = RandomForestClassifier(seed=1385)\n",
        "\n",
        "# create evaluator\n",
        "rf_f1_evaluator = MulticlassClassificationEvaluator(metricName='f1')\n",
        "\n",
        "# build param grid using ParamGridBuilder\n",
        "# Should be \n",
        "    # ParamGridBuilder()\n",
        "    # .addGrid(random_forest.numTrees,[20, 50, 100])\n",
        "    # .addGrid(random_forest.maxDepth,[5, 10, 15])\n",
        "    # .build()\n",
        "# but for the time is taken we will sticking for the below\n",
        "grid = ParamGridBuilder() \\\n",
        "    .addGrid(random_forest.numTrees,[20]) \\\n",
        "    .addGrid(random_forest.maxDepth,[5]) \\\n",
        "    .build()\n",
        "\n",
        "# numFolds is 3 to speed up the process\n",
        "rfCrossValue = CrossValidator(estimator = random_forest, \n",
        "                              estimatorParamMaps = grid,\n",
        "                              evaluator = rf_f1_evaluator,\n",
        "                              numFolds = 3)"
      ]
    },
    {
      "cell_type": "code",
      "execution_count": null,
      "metadata": {
        "colab": {
          "background_save": true
        },
        "id": "Ne4Fv9LrecsU",
        "outputId": "3e452dd8-4d35-4841-e761-726c3b95398d"
      },
      "outputs": [
        {
          "name": "stdout",
          "output_type": "stream",
          "text": [
            "Time taken to process training : 8.421143956979115 Minutes.\n",
            "----------------------------------------------\n"
          ]
        },
        {
          "data": {
            "text/plain": [
              "[0.6827208243807319]"
            ]
          },
          "execution_count": 63,
          "metadata": {},
          "output_type": "execute_result"
        }
      ],
      "source": [
        "start = time.time()\n",
        "cvModel_rf = rfCrossValue.fit(train)\n",
        "end = time.time()\n",
        "\n",
        "time_take = end - start\n",
        "if time_take >= 60:\n",
        "    print(\"Time taken to process training : \" + str(time_take / 60) + \" Minutes.\")\n",
        "else:\n",
        "    print(\"Time taken to process training : \" + str(time_take) + \" Seconds.\")\n",
        "\n",
        "\n",
        "print('----------------------------------------------')\n",
        "cvModel_rf.avgMetrics"
      ]
    },
    {
      "cell_type": "code",
      "execution_count": null,
      "metadata": {
        "colab": {
          "background_save": true
        },
        "id": "lGbGnjgYee51"
      },
      "outputs": [],
      "source": [
        "rf_final_results = cvModel_rf.transform(validation)"
      ]
    },
    {
      "cell_type": "code",
      "execution_count": null,
      "metadata": {
        "colab": {
          "background_save": true
        },
        "id": "lg3SirLxeg8s",
        "outputId": "1a1739f7-555f-4881-b11d-8dec9b689290"
      },
      "outputs": [
        {
          "name": "stdout",
          "output_type": "stream",
          "text": [
            "RF Test Metrics:\n",
            "Accuracy : 75.64102564102564 %\n",
            "f1_Score : 0.7067190716825753\n"
          ]
        }
      ],
      "source": [
        "evaluator = MulticlassClassificationEvaluator(predictionCol=\"prediction\")\n",
        "\n",
        "print('RF Test Metrics:')\n",
        "\n",
        "accuracy = evaluator.evaluate(rf_results, {evaluator.metricName: \"accuracy\"})\n",
        "print(\"Accuracy : \" + str(accuracy * 100) + \" %\")\n",
        "\n",
        "f1_Score = evaluator.evaluate(rf_results, {evaluator.metricName: \"f1\"})\n",
        "print(\"f1_Score : \" + str(f1_Score))"
      ]
    },
    {
      "cell_type": "code",
      "execution_count": null,
      "metadata": {
        "colab": {
          "background_save": true
        },
        "id": "rCt3JoU5ejDR"
      },
      "outputs": [],
      "source": [
        "best_model = cvModel_rf.bestModel"
      ]
    },
    {
      "cell_type": "code",
      "execution_count": null,
      "metadata": {
        "colab": {
          "background_save": true
        },
        "id": "kXXND5quekwb",
        "outputId": "c7c2f422-5cd8-48d4-ddc0-ca8e61c623e7"
      },
      "outputs": [
        {
          "name": "stdout",
          "output_type": "stream",
          "text": [
            "Best Number of Trees Parameter:  20\n",
            "Best Max Depth Parameter:  5\n"
          ]
        }
      ],
      "source": [
        "print (\"Best Number of Trees Parameter: \", best_model._java_obj.getNumTrees())\n",
        "print (\"Best Max Depth Parameter: \", best_model._java_obj.getMaxDepth())"
      ]
    },
    {
      "cell_type": "code",
      "execution_count": null,
      "metadata": {
        "colab": {
          "background_save": true
        },
        "id": "tTjsMsbJemiJ"
      },
      "outputs": [],
      "source": [
        "importances = best_model.featureImportances"
      ]
    },
    {
      "cell_type": "code",
      "execution_count": null,
      "metadata": {
        "colab": {
          "background_save": true
        },
        "id": "KfVNc6n9eonw"
      },
      "outputs": [],
      "source": [
        "x_values = list(range(len(importances)))"
      ]
    },
    {
      "cell_type": "code",
      "execution_count": null,
      "metadata": {
        "colab": {
          "background_save": true
        },
        "id": "28yzeFsAeqSb"
      },
      "outputs": [],
      "source": [
        "feature_list = list([\"gender\", \"level\", \"thumbs_down\", \"thumbs_up\", \"number_of_artists_listenedTo\"])"
      ]
    },
    {
      "cell_type": "code",
      "execution_count": null,
      "metadata": {
        "colab": {
          "background_save": true
        },
        "id": "TiSBS2-9esX6",
        "outputId": "7f6fca28-ab8a-4e03-80e3-b40ef61eebbc"
      },
      "outputs": [
        {
          "data": {
            "image/png": "[encoded data removed]",
            "text/plain": [
              "<Figure size 576x432 with 1 Axes>"
            ]
          },
          "metadata": {},
          "output_type": "display_data"
        }
      ],
      "source": [
        "plt.figure(figsize=[8,6])\n",
        "plt.bar(x_values, importances, orientation = 'vertical')\n",
        "plt.xticks(x_values, feature_list, rotation=40)\n",
        "plt.ylabel('Importance')\n",
        "plt.xlabel('Feature')\n",
        "plt.title('Feature Importances');"
      ]
    }
  ],
  "metadata": {
    "colab": {
      "provenance": []
    },
    "kernelspec": {
      "display_name": "Python 3",
      "name": "python3"
    },
    "language_info": {
      "name": "python"
    }
  },
  "nbformat": 4,
  "nbformat_minor": 0
}
